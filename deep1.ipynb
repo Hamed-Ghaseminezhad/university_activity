{
  "nbformat": 4,
  "nbformat_minor": 0,
  "metadata": {
    "colab": {
      "provenance": [],
      "authorship_tag": "ABX9TyPCu5S24BIpgPRI5RWslSbo",
      "include_colab_link": true
    },
    "kernelspec": {
      "name": "python3",
      "display_name": "Python 3"
    },
    "language_info": {
      "name": "python"
    },
    "accelerator": "GPU",
    "gpuClass": "standard"
  },
  "cells": [
    {
      "cell_type": "markdown",
      "metadata": {
        "id": "view-in-github",
        "colab_type": "text"
      },
      "source": [
        "<a href=\"https://colab.research.google.com/github/Hamed-Ghaseminezhad/university_activity/blob/main/deep1.ipynb\" target=\"_parent\"><img src=\"https://colab.research.google.com/assets/colab-badge.svg\" alt=\"Open In Colab\"/></a>"
      ]
    },
    {
      "cell_type": "code",
      "execution_count": 1,
      "metadata": {
        "id": "qf1AYP-8f1kT"
      },
      "outputs": [],
      "source": [
        "import numpy as np\n",
        "import matplotlib.pyplot as plt\n",
        "from tensorflow import keras \n",
        "import tensorflow as ts"
      ]
    },
    {
      "cell_type": "code",
      "source": [
        "train=keras.utils.image_dataset_from_directory(\n",
        "    directory='train/',\n",
        "    labels='inferred',\n",
        "    label_mode='categorical',\n",
        "    batch_size=32,\n",
        "    image_size=(256,256))\n",
        "\n",
        "#when we want to load a folder\n",
        "test=keras.utils.image_dataset_from_directory(\n",
        "    directory='test/',\n",
        "    labels='inferred',\n",
        "    label_mode='categorical',\n",
        "    batch_size=32,\n",
        "    image_size=(256,256) )\n",
        "\n",
        "validation=keras.utils.image_dataset_from_directory(\n",
        "    directory='val/',\n",
        "    labels='inferred',\n",
        "    label_mode='categorical',\n",
        "    batch_size=32,\n",
        "    image_size=(256,256))\n"
      ],
      "metadata": {
        "id": "THcIEk79gvQk"
      },
      "execution_count": null,
      "outputs": []
    },
    {
      "cell_type": "code",
      "source": [
        "print(test.class_names)\n",
        "print(terain.class_names)\n",
        "print(validation.class_names)\n"
      ],
      "metadata": {
        "id": "coYHv7fGhhz5"
      },
      "execution_count": null,
      "outputs": []
    },
    {
      "cell_type": "markdown",
      "source": [
        "create CNN"
      ],
      "metadata": {
        "id": "O_lEJx-u1AGM"
      }
    },
    {
      "cell_type": "code",
      "source": [
        "cnn=tf.keras.models.sequential()"
      ],
      "metadata": {
        "id": "Bvzixx_n1Fyp"
      },
      "execution_count": null,
      "outputs": []
    },
    {
      "cell_type": "markdown",
      "source": [
        "step1 : convolution"
      ],
      "metadata": {
        "id": "FaTCiIEs1a3f"
      }
    },
    {
      "cell_type": "code",
      "source": [
        "cnn.add(tf.keras.layers.conv2D(filters=32,kernel_size=3,activations=\"relu\",input_shape=[256,256,3]))"
      ],
      "metadata": {
        "id": "dKkGti_w1j2l"
      },
      "execution_count": null,
      "outputs": []
    },
    {
      "cell_type": "markdown",
      "source": [
        "step2:pooling"
      ],
      "metadata": {
        "id": "jy9ra3kT2Qlt"
      }
    },
    {
      "cell_type": "code",
      "source": [
        "cnn.add(tf.keras.layers.maxpool2D(pool_size=2,strides=2))"
      ],
      "metadata": {
        "id": "m9EgFbeO2WTC"
      },
      "execution_count": null,
      "outputs": []
    },
    {
      "cell_type": "markdown",
      "source": [
        "add another conv layer if you want"
      ],
      "metadata": {
        "id": "awxzEX8v2zia"
      }
    },
    {
      "cell_type": "code",
      "source": [
        "#cnn.add(tf.keras.layers.conv2D(filters=32,kernel_size=3,activations=\"relu\",input_shape=[256,256,2]))\n",
        "#cnn.add(tf.keras.layers.maxpool2D(pool_size=2,strides=2))"
      ],
      "metadata": {
        "id": "SsoHnZrF27Ni"
      },
      "execution_count": null,
      "outputs": []
    },
    {
      "cell_type": "markdown",
      "source": [
        "step3 : flattening"
      ],
      "metadata": {
        "id": "ozhJzObO4dZc"
      }
    },
    {
      "cell_type": "code",
      "source": [
        "cnn.add(ts.keras.layers.Flatten())"
      ],
      "metadata": {
        "id": "8prpl_Q74nT2"
      },
      "execution_count": null,
      "outputs": []
    },
    {
      "cell_type": "markdown",
      "source": [
        "step4: full connection"
      ],
      "metadata": {
        "id": "S5ABU7HcN6dq"
      }
    },
    {
      "cell_type": "code",
      "source": [
        "from keras.api._v2.keras import activations\n",
        "cnn.add(ts.keras.layers.Dense(units=512,activations=\"relu\"))"
      ],
      "metadata": {
        "id": "aFHU1IBqN_1o"
      },
      "execution_count": null,
      "outputs": []
    },
    {
      "cell_type": "markdown",
      "source": [
        "step5: output layer"
      ],
      "metadata": {
        "id": "nXLGIA0aOe12"
      }
    },
    {
      "cell_type": "code",
      "source": [
        "cnn.add(ts.keras.layers.Dense(units=2,activation=\"sigmoid\"))"
      ],
      "metadata": {
        "id": "M1xKKGx4OlJ3"
      },
      "execution_count": null,
      "outputs": []
    },
    {
      "cell_type": "markdown",
      "source": [
        "next part\n",
        "training the cnn "
      ],
      "metadata": {
        "id": "iuGRIp4BWcpZ"
      }
    },
    {
      "cell_type": "code",
      "source": [
        "cnn.compile(optimizers='adam',loss='binary_crossentropy',metrics=['accuracy'])"
      ],
      "metadata": {
        "id": "bEUkHLAoWkZS"
      },
      "execution_count": null,
      "outputs": []
    },
    {
      "cell_type": "code",
      "source": [
        "cnn.fit(x=train,validation_data=validation,epochs=2)"
      ],
      "metadata": {
        "id": "EbJdNvjMeKiR"
      },
      "execution_count": null,
      "outputs": []
    },
    {
      "cell_type": "markdown",
      "source": [
        "let evaluate with real data"
      ],
      "metadata": {
        "id": "yZvXs3zMs-f5"
      }
    },
    {
      "cell_type": "code",
      "source": [
        "import numpy as np\n",
        "test_image=ts.keras.utils.load_img(\"test/NORMAL...jpeg\",target_size=(256,256)) # when we want to load an image"
      ],
      "metadata": {
        "id": "VGms9IsdtFDI"
      },
      "execution_count": null,
      "outputs": []
    },
    {
      "cell_type": "code",
      "source": [
        "test_image=ts.keras.utils.img_to_array(test_image)\n",
        "test_image=np.expand_dims(test_image,axis=0)\n",
        "result=cnn.predict(test_image)"
      ],
      "metadata": {
        "id": "QbTytFVptp3p"
      },
      "execution_count": null,
      "outputs": []
    },
    {
      "cell_type": "code",
      "source": [
        "print(result)"
      ],
      "metadata": {
        "id": "Uxej7U9euw_f"
      },
      "execution_count": null,
      "outputs": []
    }
  ]
}